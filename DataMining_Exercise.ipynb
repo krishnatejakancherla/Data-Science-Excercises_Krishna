{
  "nbformat": 4,
  "nbformat_minor": 0,
  "metadata": {
    "colab": {
      "name": "DataMining Ex.ipynb",
      "provenance": [],
      "collapsed_sections": []
    },
    "kernelspec": {
      "name": "python3",
      "display_name": "Python 3"
    },
    "language_info": {
      "name": "python"
    }
  },
  "cells": [
    {
      "cell_type": "code",
      "metadata": {
        "id": "4p_iI1X9y5XI"
      },
      "source": [
        "# -*- coding: utf-8 -*-\n",
        "\"\"\"\n",
        "Created on Wed Mon  5 16:37:31 2021\n",
        "\n",
        "@author: Krishna Teja KANCHERLA\n",
        "\"\"\"\n",
        "## Exercise 2 : Data Mining\n",
        "\n",
        "import pandas as pd\n",
        "import numpy as np\n",
        "df = pd.read_csv(\"dstest.csv\")"
      ],
      "execution_count": 1,
      "outputs": []
    },
    {
      "cell_type": "code",
      "metadata": {
        "colab": {
          "base_uri": "https://localhost:8080/"
        },
        "id": "Hxz1iywJ3Pk-",
        "outputId": "9b9edc7a-8d05-4ced-b9e9-44f3e31f0612"
      },
      "source": [
        "df.head"
      ],
      "execution_count": 2,
      "outputs": [
        {
          "output_type": "execute_result",
          "data": {
            "text/plain": [
              "<bound method NDFrame.head of               company live  ... totalPlaybackErrorCount        content\n",
              "0       Streamroot TV  VOD  ...                       0  content-09235\n",
              "1       Streamroot TV  VOD  ...                       0  content-09235\n",
              "2       Streamroot TV  VOD  ...                       0  content-09235\n",
              "3       Streamroot TV  VOD  ...                       0  content-09235\n",
              "4       Streamroot TV  VOD  ...                       0  content-09235\n",
              "...               ...  ...  ...                     ...            ...\n",
              "385160  Streamroot TV  VOD  ...                       0  content-05335\n",
              "385161  Streamroot TV  VOD  ...                       0  content-05335\n",
              "385162  Streamroot TV  VOD  ...                       0  content-05335\n",
              "385163  Streamroot TV  VOD  ...                       0  content-05335\n",
              "385164  Streamroot TV  VOD  ...                       0  content-05335\n",
              "\n",
              "[385165 rows x 13 columns]>"
            ]
          },
          "metadata": {
            "tags": []
          },
          "execution_count": 2
        }
      ]
    },
    {
      "cell_type": "code",
      "metadata": {
        "colab": {
          "base_uri": "https://localhost:8080/"
        },
        "id": "xuVFNkTB3UUt",
        "outputId": "f225a6ff-08cd-4ff4-acf0-431970dc981b"
      },
      "source": [
        "df.company.unique() #Getting Unique Company Names"
      ],
      "execution_count": 3,
      "outputs": [
        {
          "output_type": "execute_result",
          "data": {
            "text/plain": [
              "array(['Streamroot TV', 'Flash Infos', 'Sports News'], dtype=object)"
            ]
          },
          "metadata": {
            "tags": []
          },
          "execution_count": 3
        }
      ]
    },
    {
      "cell_type": "code",
      "metadata": {
        "colab": {
          "base_uri": "https://localhost:8080/"
        },
        "id": "7riDc5i43WZR",
        "outputId": "0af211fb-b448-40f9-c887-0275a5e7baa2"
      },
      "source": [
        "print(len(df.content.unique())) #Length of the unique content rows"
      ],
      "execution_count": 4,
      "outputs": [
        {
          "output_type": "stream",
          "text": [
            "17298\n"
          ],
          "name": "stdout"
        }
      ]
    },
    {
      "cell_type": "code",
      "metadata": {
        "colab": {
          "base_uri": "https://localhost:8080/"
        },
        "id": "cApoyOiJ3Ypq",
        "outputId": "b5052a5b-594d-4fb4-e942-fdf1f81bc6ad"
      },
      "source": [
        "df.playbackErrorCount.unique() # Playback unique error counts"
      ],
      "execution_count": 5,
      "outputs": [
        {
          "output_type": "execute_result",
          "data": {
            "text/plain": [
              "array([0, 1, 2, 3])"
            ]
          },
          "metadata": {
            "tags": []
          },
          "execution_count": 5
        }
      ]
    },
    {
      "cell_type": "code",
      "metadata": {
        "colab": {
          "base_uri": "https://localhost:8080/"
        },
        "id": "2VnnE4Tv3cls",
        "outputId": "3689c00d-9102-4ae1-9904-19ead6c9fd1c"
      },
      "source": [
        "df.totalPlaybackErrorCount.unique() # total Playback unique error counts"
      ],
      "execution_count": 6,
      "outputs": [
        {
          "output_type": "execute_result",
          "data": {
            "text/plain": [
              "array([0, 1, 2, 3])"
            ]
          },
          "metadata": {
            "tags": []
          },
          "execution_count": 6
        }
      ]
    },
    {
      "cell_type": "code",
      "metadata": {
        "colab": {
          "base_uri": "https://localhost:8080/",
          "height": 420
        },
        "id": "HljP8yNK3fUY",
        "outputId": "d17e58a0-be8e-46c3-e666-bc066b67c9af"
      },
      "source": [
        "pd.DataFrame(df.groupby(['content']).count())"
      ],
      "execution_count": 7,
      "outputs": [
        {
          "output_type": "execute_result",
          "data": {
            "text/html": [
              "<div>\n",
              "<style scoped>\n",
              "    .dataframe tbody tr th:only-of-type {\n",
              "        vertical-align: middle;\n",
              "    }\n",
              "\n",
              "    .dataframe tbody tr th {\n",
              "        vertical-align: top;\n",
              "    }\n",
              "\n",
              "    .dataframe thead th {\n",
              "        text-align: right;\n",
              "    }\n",
              "</style>\n",
              "<table border=\"1\" class=\"dataframe\">\n",
              "  <thead>\n",
              "    <tr style=\"text-align: right;\">\n",
              "      <th></th>\n",
              "      <th>company</th>\n",
              "      <th>live</th>\n",
              "      <th>mediaEngine</th>\n",
              "      <th>p2p</th>\n",
              "      <th>cdn</th>\n",
              "      <th>upload</th>\n",
              "      <th>peers_count</th>\n",
              "      <th>peers_match</th>\n",
              "      <th>timestamp</th>\n",
              "      <th>sessionDuration</th>\n",
              "      <th>playbackErrorCount</th>\n",
              "      <th>totalPlaybackErrorCount</th>\n",
              "    </tr>\n",
              "    <tr>\n",
              "      <th>content</th>\n",
              "      <th></th>\n",
              "      <th></th>\n",
              "      <th></th>\n",
              "      <th></th>\n",
              "      <th></th>\n",
              "      <th></th>\n",
              "      <th></th>\n",
              "      <th></th>\n",
              "      <th></th>\n",
              "      <th></th>\n",
              "      <th></th>\n",
              "      <th></th>\n",
              "    </tr>\n",
              "  </thead>\n",
              "  <tbody>\n",
              "    <tr>\n",
              "      <th>content-00000</th>\n",
              "      <td>48</td>\n",
              "      <td>48</td>\n",
              "      <td>48</td>\n",
              "      <td>48</td>\n",
              "      <td>48</td>\n",
              "      <td>48</td>\n",
              "      <td>48</td>\n",
              "      <td>48</td>\n",
              "      <td>48</td>\n",
              "      <td>48</td>\n",
              "      <td>48</td>\n",
              "      <td>48</td>\n",
              "    </tr>\n",
              "    <tr>\n",
              "      <th>content-00001</th>\n",
              "      <td>10</td>\n",
              "      <td>10</td>\n",
              "      <td>10</td>\n",
              "      <td>10</td>\n",
              "      <td>10</td>\n",
              "      <td>10</td>\n",
              "      <td>10</td>\n",
              "      <td>10</td>\n",
              "      <td>10</td>\n",
              "      <td>10</td>\n",
              "      <td>10</td>\n",
              "      <td>10</td>\n",
              "    </tr>\n",
              "    <tr>\n",
              "      <th>content-00002</th>\n",
              "      <td>7</td>\n",
              "      <td>7</td>\n",
              "      <td>7</td>\n",
              "      <td>7</td>\n",
              "      <td>7</td>\n",
              "      <td>7</td>\n",
              "      <td>7</td>\n",
              "      <td>7</td>\n",
              "      <td>7</td>\n",
              "      <td>7</td>\n",
              "      <td>7</td>\n",
              "      <td>7</td>\n",
              "    </tr>\n",
              "    <tr>\n",
              "      <th>content-00003</th>\n",
              "      <td>11</td>\n",
              "      <td>11</td>\n",
              "      <td>11</td>\n",
              "      <td>11</td>\n",
              "      <td>11</td>\n",
              "      <td>11</td>\n",
              "      <td>11</td>\n",
              "      <td>11</td>\n",
              "      <td>11</td>\n",
              "      <td>11</td>\n",
              "      <td>11</td>\n",
              "      <td>11</td>\n",
              "    </tr>\n",
              "    <tr>\n",
              "      <th>content-00004</th>\n",
              "      <td>9</td>\n",
              "      <td>9</td>\n",
              "      <td>9</td>\n",
              "      <td>9</td>\n",
              "      <td>9</td>\n",
              "      <td>9</td>\n",
              "      <td>9</td>\n",
              "      <td>9</td>\n",
              "      <td>9</td>\n",
              "      <td>9</td>\n",
              "      <td>9</td>\n",
              "      <td>9</td>\n",
              "    </tr>\n",
              "    <tr>\n",
              "      <th>...</th>\n",
              "      <td>...</td>\n",
              "      <td>...</td>\n",
              "      <td>...</td>\n",
              "      <td>...</td>\n",
              "      <td>...</td>\n",
              "      <td>...</td>\n",
              "      <td>...</td>\n",
              "      <td>...</td>\n",
              "      <td>...</td>\n",
              "      <td>...</td>\n",
              "      <td>...</td>\n",
              "      <td>...</td>\n",
              "    </tr>\n",
              "    <tr>\n",
              "      <th>content-17293</th>\n",
              "      <td>6</td>\n",
              "      <td>6</td>\n",
              "      <td>6</td>\n",
              "      <td>6</td>\n",
              "      <td>6</td>\n",
              "      <td>6</td>\n",
              "      <td>6</td>\n",
              "      <td>6</td>\n",
              "      <td>6</td>\n",
              "      <td>6</td>\n",
              "      <td>6</td>\n",
              "      <td>6</td>\n",
              "    </tr>\n",
              "    <tr>\n",
              "      <th>content-17294</th>\n",
              "      <td>22</td>\n",
              "      <td>22</td>\n",
              "      <td>22</td>\n",
              "      <td>22</td>\n",
              "      <td>22</td>\n",
              "      <td>22</td>\n",
              "      <td>22</td>\n",
              "      <td>22</td>\n",
              "      <td>22</td>\n",
              "      <td>22</td>\n",
              "      <td>22</td>\n",
              "      <td>22</td>\n",
              "    </tr>\n",
              "    <tr>\n",
              "      <th>content-17295</th>\n",
              "      <td>7</td>\n",
              "      <td>7</td>\n",
              "      <td>7</td>\n",
              "      <td>7</td>\n",
              "      <td>7</td>\n",
              "      <td>7</td>\n",
              "      <td>7</td>\n",
              "      <td>7</td>\n",
              "      <td>7</td>\n",
              "      <td>7</td>\n",
              "      <td>7</td>\n",
              "      <td>7</td>\n",
              "    </tr>\n",
              "    <tr>\n",
              "      <th>content-17296</th>\n",
              "      <td>24</td>\n",
              "      <td>24</td>\n",
              "      <td>24</td>\n",
              "      <td>24</td>\n",
              "      <td>24</td>\n",
              "      <td>24</td>\n",
              "      <td>24</td>\n",
              "      <td>24</td>\n",
              "      <td>24</td>\n",
              "      <td>24</td>\n",
              "      <td>24</td>\n",
              "      <td>24</td>\n",
              "    </tr>\n",
              "    <tr>\n",
              "      <th>content-17297</th>\n",
              "      <td>13</td>\n",
              "      <td>13</td>\n",
              "      <td>13</td>\n",
              "      <td>13</td>\n",
              "      <td>13</td>\n",
              "      <td>13</td>\n",
              "      <td>13</td>\n",
              "      <td>13</td>\n",
              "      <td>13</td>\n",
              "      <td>13</td>\n",
              "      <td>13</td>\n",
              "      <td>13</td>\n",
              "    </tr>\n",
              "  </tbody>\n",
              "</table>\n",
              "<p>17298 rows × 12 columns</p>\n",
              "</div>"
            ],
            "text/plain": [
              "               company  live  ...  playbackErrorCount  totalPlaybackErrorCount\n",
              "content                       ...                                             \n",
              "content-00000       48    48  ...                  48                       48\n",
              "content-00001       10    10  ...                  10                       10\n",
              "content-00002        7     7  ...                   7                        7\n",
              "content-00003       11    11  ...                  11                       11\n",
              "content-00004        9     9  ...                   9                        9\n",
              "...                ...   ...  ...                 ...                      ...\n",
              "content-17293        6     6  ...                   6                        6\n",
              "content-17294       22    22  ...                  22                       22\n",
              "content-17295        7     7  ...                   7                        7\n",
              "content-17296       24    24  ...                  24                       24\n",
              "content-17297       13    13  ...                  13                       13\n",
              "\n",
              "[17298 rows x 12 columns]"
            ]
          },
          "metadata": {
            "tags": []
          },
          "execution_count": 7
        }
      ]
    },
    {
      "cell_type": "code",
      "metadata": {
        "id": "zgMEB2ym3hB3"
      },
      "source": [
        "import datetime\n",
        "converted_df = pd.to_datetime(df['timestamp'],unit='ms') # Converted to Date Time"
      ],
      "execution_count": 8,
      "outputs": []
    },
    {
      "cell_type": "code",
      "metadata": {
        "colab": {
          "base_uri": "https://localhost:8080/"
        },
        "id": "oA8OzY4P3lI2",
        "outputId": "341a186d-4cb6-4257-ce1a-a3c851a3f043"
      },
      "source": [
        "converted_df"
      ],
      "execution_count": 9,
      "outputs": [
        {
          "output_type": "execute_result",
          "data": {
            "text/plain": [
              "0        2019-07-07 03:23:27.407\n",
              "1        2019-07-07 03:25:27.310\n",
              "2        2019-07-07 03:27:27.330\n",
              "3        2019-07-07 03:29:27.720\n",
              "4        2019-07-07 03:31:27.353\n",
              "                   ...          \n",
              "385160   2019-07-07 05:50:31.672\n",
              "385161   2019-07-07 05:52:29.635\n",
              "385162   2019-07-07 05:54:29.650\n",
              "385163   2019-07-07 05:56:29.910\n",
              "385164   2019-07-07 05:58:30.208\n",
              "Name: timestamp, Length: 385165, dtype: datetime64[ns]"
            ]
          },
          "metadata": {
            "tags": []
          },
          "execution_count": 9
        }
      ]
    },
    {
      "cell_type": "code",
      "metadata": {
        "id": "KvepKPoB3nZb"
      },
      "source": [
        "df['Time'] = converted_df #added Converted time to Dataframe"
      ],
      "execution_count": 10,
      "outputs": []
    },
    {
      "cell_type": "code",
      "metadata": {
        "colab": {
          "base_uri": "https://localhost:8080/",
          "height": 292
        },
        "id": "UIgbXdtR3pmn",
        "outputId": "949e5314-37b7-4bb8-fa78-c9bddcaa987d"
      },
      "source": [
        "df.head()"
      ],
      "execution_count": 11,
      "outputs": [
        {
          "output_type": "execute_result",
          "data": {
            "text/html": [
              "<div>\n",
              "<style scoped>\n",
              "    .dataframe tbody tr th:only-of-type {\n",
              "        vertical-align: middle;\n",
              "    }\n",
              "\n",
              "    .dataframe tbody tr th {\n",
              "        vertical-align: top;\n",
              "    }\n",
              "\n",
              "    .dataframe thead th {\n",
              "        text-align: right;\n",
              "    }\n",
              "</style>\n",
              "<table border=\"1\" class=\"dataframe\">\n",
              "  <thead>\n",
              "    <tr style=\"text-align: right;\">\n",
              "      <th></th>\n",
              "      <th>company</th>\n",
              "      <th>live</th>\n",
              "      <th>mediaEngine</th>\n",
              "      <th>p2p</th>\n",
              "      <th>cdn</th>\n",
              "      <th>upload</th>\n",
              "      <th>peers_count</th>\n",
              "      <th>peers_match</th>\n",
              "      <th>timestamp</th>\n",
              "      <th>sessionDuration</th>\n",
              "      <th>playbackErrorCount</th>\n",
              "      <th>totalPlaybackErrorCount</th>\n",
              "      <th>content</th>\n",
              "      <th>Time</th>\n",
              "    </tr>\n",
              "  </thead>\n",
              "  <tbody>\n",
              "    <tr>\n",
              "      <th>0</th>\n",
              "      <td>Streamroot TV</td>\n",
              "      <td>VOD</td>\n",
              "      <td>ME1</td>\n",
              "      <td>0.0</td>\n",
              "      <td>8507376.0</td>\n",
              "      <td>0.0</td>\n",
              "      <td>0.0</td>\n",
              "      <td>1</td>\n",
              "      <td>1562469807407</td>\n",
              "      <td>120000.0</td>\n",
              "      <td>0</td>\n",
              "      <td>0</td>\n",
              "      <td>content-09235</td>\n",
              "      <td>2019-07-07 03:23:27.407</td>\n",
              "    </tr>\n",
              "    <tr>\n",
              "      <th>1</th>\n",
              "      <td>Streamroot TV</td>\n",
              "      <td>VOD</td>\n",
              "      <td>ME1</td>\n",
              "      <td>0.0</td>\n",
              "      <td>5778744.0</td>\n",
              "      <td>0.0</td>\n",
              "      <td>0.0</td>\n",
              "      <td>0</td>\n",
              "      <td>1562469927310</td>\n",
              "      <td>240000.0</td>\n",
              "      <td>0</td>\n",
              "      <td>0</td>\n",
              "      <td>content-09235</td>\n",
              "      <td>2019-07-07 03:25:27.310</td>\n",
              "    </tr>\n",
              "    <tr>\n",
              "      <th>2</th>\n",
              "      <td>Streamroot TV</td>\n",
              "      <td>VOD</td>\n",
              "      <td>ME1</td>\n",
              "      <td>0.0</td>\n",
              "      <td>7692960.0</td>\n",
              "      <td>0.0</td>\n",
              "      <td>0.0</td>\n",
              "      <td>0</td>\n",
              "      <td>1562470047330</td>\n",
              "      <td>360000.0</td>\n",
              "      <td>0</td>\n",
              "      <td>0</td>\n",
              "      <td>content-09235</td>\n",
              "      <td>2019-07-07 03:27:27.330</td>\n",
              "    </tr>\n",
              "    <tr>\n",
              "      <th>3</th>\n",
              "      <td>Streamroot TV</td>\n",
              "      <td>VOD</td>\n",
              "      <td>ME1</td>\n",
              "      <td>0.0</td>\n",
              "      <td>8229888.0</td>\n",
              "      <td>0.0</td>\n",
              "      <td>0.0</td>\n",
              "      <td>0</td>\n",
              "      <td>1562470167720</td>\n",
              "      <td>480000.0</td>\n",
              "      <td>0</td>\n",
              "      <td>0</td>\n",
              "      <td>content-09235</td>\n",
              "      <td>2019-07-07 03:29:27.720</td>\n",
              "    </tr>\n",
              "    <tr>\n",
              "      <th>4</th>\n",
              "      <td>Streamroot TV</td>\n",
              "      <td>VOD</td>\n",
              "      <td>ME1</td>\n",
              "      <td>0.0</td>\n",
              "      <td>10387000.0</td>\n",
              "      <td>0.0</td>\n",
              "      <td>0.0</td>\n",
              "      <td>0</td>\n",
              "      <td>1562470287353</td>\n",
              "      <td>600000.0</td>\n",
              "      <td>0</td>\n",
              "      <td>0</td>\n",
              "      <td>content-09235</td>\n",
              "      <td>2019-07-07 03:31:27.353</td>\n",
              "    </tr>\n",
              "  </tbody>\n",
              "</table>\n",
              "</div>"
            ],
            "text/plain": [
              "         company live  ...        content                    Time\n",
              "0  Streamroot TV  VOD  ...  content-09235 2019-07-07 03:23:27.407\n",
              "1  Streamroot TV  VOD  ...  content-09235 2019-07-07 03:25:27.310\n",
              "2  Streamroot TV  VOD  ...  content-09235 2019-07-07 03:27:27.330\n",
              "3  Streamroot TV  VOD  ...  content-09235 2019-07-07 03:29:27.720\n",
              "4  Streamroot TV  VOD  ...  content-09235 2019-07-07 03:31:27.353\n",
              "\n",
              "[5 rows x 14 columns]"
            ]
          },
          "metadata": {
            "tags": []
          },
          "execution_count": 11
        }
      ]
    },
    {
      "cell_type": "code",
      "metadata": {
        "colab": {
          "base_uri": "https://localhost:8080/",
          "height": 622
        },
        "id": "OUvBSzHF3tJw",
        "outputId": "2b9ca12d-48ca-48b1-c1bd-76f3bf5d2a56"
      },
      "source": [
        "df.loc[1:20,['content', 'Time']] # 20 Contents and Time"
      ],
      "execution_count": 12,
      "outputs": [
        {
          "output_type": "execute_result",
          "data": {
            "text/html": [
              "<div>\n",
              "<style scoped>\n",
              "    .dataframe tbody tr th:only-of-type {\n",
              "        vertical-align: middle;\n",
              "    }\n",
              "\n",
              "    .dataframe tbody tr th {\n",
              "        vertical-align: top;\n",
              "    }\n",
              "\n",
              "    .dataframe thead th {\n",
              "        text-align: right;\n",
              "    }\n",
              "</style>\n",
              "<table border=\"1\" class=\"dataframe\">\n",
              "  <thead>\n",
              "    <tr style=\"text-align: right;\">\n",
              "      <th></th>\n",
              "      <th>content</th>\n",
              "      <th>Time</th>\n",
              "    </tr>\n",
              "  </thead>\n",
              "  <tbody>\n",
              "    <tr>\n",
              "      <th>1</th>\n",
              "      <td>content-09235</td>\n",
              "      <td>2019-07-07 03:25:27.310</td>\n",
              "    </tr>\n",
              "    <tr>\n",
              "      <th>2</th>\n",
              "      <td>content-09235</td>\n",
              "      <td>2019-07-07 03:27:27.330</td>\n",
              "    </tr>\n",
              "    <tr>\n",
              "      <th>3</th>\n",
              "      <td>content-09235</td>\n",
              "      <td>2019-07-07 03:29:27.720</td>\n",
              "    </tr>\n",
              "    <tr>\n",
              "      <th>4</th>\n",
              "      <td>content-09235</td>\n",
              "      <td>2019-07-07 03:31:27.353</td>\n",
              "    </tr>\n",
              "    <tr>\n",
              "      <th>5</th>\n",
              "      <td>content-09235</td>\n",
              "      <td>2019-07-07 03:33:27.799</td>\n",
              "    </tr>\n",
              "    <tr>\n",
              "      <th>6</th>\n",
              "      <td>content-09235</td>\n",
              "      <td>2019-07-07 03:35:27.768</td>\n",
              "    </tr>\n",
              "    <tr>\n",
              "      <th>7</th>\n",
              "      <td>content-09235</td>\n",
              "      <td>2019-07-07 03:37:27.404</td>\n",
              "    </tr>\n",
              "    <tr>\n",
              "      <th>8</th>\n",
              "      <td>content-09235</td>\n",
              "      <td>2019-07-07 03:39:27.693</td>\n",
              "    </tr>\n",
              "    <tr>\n",
              "      <th>9</th>\n",
              "      <td>content-09235</td>\n",
              "      <td>2019-07-07 03:41:27.701</td>\n",
              "    </tr>\n",
              "    <tr>\n",
              "      <th>10</th>\n",
              "      <td>content-09235</td>\n",
              "      <td>2019-07-07 03:43:27.839</td>\n",
              "    </tr>\n",
              "    <tr>\n",
              "      <th>11</th>\n",
              "      <td>content-09235</td>\n",
              "      <td>2019-07-07 03:45:27.738</td>\n",
              "    </tr>\n",
              "    <tr>\n",
              "      <th>12</th>\n",
              "      <td>content-09235</td>\n",
              "      <td>2019-07-07 03:55:28.461</td>\n",
              "    </tr>\n",
              "    <tr>\n",
              "      <th>13</th>\n",
              "      <td>content-09235</td>\n",
              "      <td>2019-07-07 03:57:27.850</td>\n",
              "    </tr>\n",
              "    <tr>\n",
              "      <th>14</th>\n",
              "      <td>content-09235</td>\n",
              "      <td>2019-07-07 03:59:27.958</td>\n",
              "    </tr>\n",
              "    <tr>\n",
              "      <th>15</th>\n",
              "      <td>content-09235</td>\n",
              "      <td>2019-07-07 04:01:27.848</td>\n",
              "    </tr>\n",
              "    <tr>\n",
              "      <th>16</th>\n",
              "      <td>content-17013</td>\n",
              "      <td>2019-07-07 05:29:47.430</td>\n",
              "    </tr>\n",
              "    <tr>\n",
              "      <th>17</th>\n",
              "      <td>content-17013</td>\n",
              "      <td>2019-07-07 05:31:47.337</td>\n",
              "    </tr>\n",
              "    <tr>\n",
              "      <th>18</th>\n",
              "      <td>content-17013</td>\n",
              "      <td>2019-07-07 05:33:47.335</td>\n",
              "    </tr>\n",
              "    <tr>\n",
              "      <th>19</th>\n",
              "      <td>content-17013</td>\n",
              "      <td>2019-07-07 05:35:47.342</td>\n",
              "    </tr>\n",
              "    <tr>\n",
              "      <th>20</th>\n",
              "      <td>content-17013</td>\n",
              "      <td>2019-07-07 05:37:47.471</td>\n",
              "    </tr>\n",
              "  </tbody>\n",
              "</table>\n",
              "</div>"
            ],
            "text/plain": [
              "          content                    Time\n",
              "1   content-09235 2019-07-07 03:25:27.310\n",
              "2   content-09235 2019-07-07 03:27:27.330\n",
              "3   content-09235 2019-07-07 03:29:27.720\n",
              "4   content-09235 2019-07-07 03:31:27.353\n",
              "5   content-09235 2019-07-07 03:33:27.799\n",
              "6   content-09235 2019-07-07 03:35:27.768\n",
              "7   content-09235 2019-07-07 03:37:27.404\n",
              "8   content-09235 2019-07-07 03:39:27.693\n",
              "9   content-09235 2019-07-07 03:41:27.701\n",
              "10  content-09235 2019-07-07 03:43:27.839\n",
              "11  content-09235 2019-07-07 03:45:27.738\n",
              "12  content-09235 2019-07-07 03:55:28.461\n",
              "13  content-09235 2019-07-07 03:57:27.850\n",
              "14  content-09235 2019-07-07 03:59:27.958\n",
              "15  content-09235 2019-07-07 04:01:27.848\n",
              "16  content-17013 2019-07-07 05:29:47.430\n",
              "17  content-17013 2019-07-07 05:31:47.337\n",
              "18  content-17013 2019-07-07 05:33:47.335\n",
              "19  content-17013 2019-07-07 05:35:47.342\n",
              "20  content-17013 2019-07-07 05:37:47.471"
            ]
          },
          "metadata": {
            "tags": []
          },
          "execution_count": 12
        }
      ]
    },
    {
      "cell_type": "code",
      "metadata": {
        "colab": {
          "base_uri": "https://localhost:8080/"
        },
        "id": "6x974T9E3v4x",
        "outputId": "8546b1c6-a289-4770-af82-3910ae6d54a0"
      },
      "source": [
        "df.mediaEngine.unique() #Getting unique Media Engines"
      ],
      "execution_count": 13,
      "outputs": [
        {
          "output_type": "execute_result",
          "data": {
            "text/plain": [
              "array(['ME1', 'ME2'], dtype=object)"
            ]
          },
          "metadata": {
            "tags": []
          },
          "execution_count": 13
        }
      ]
    },
    {
      "cell_type": "code",
      "metadata": {
        "colab": {
          "base_uri": "https://localhost:8080/"
        },
        "id": "GMZj1XRs3yPT",
        "outputId": "6a6c9318-3ada-4108-8998-4ddb9b12af1a"
      },
      "source": [
        "df.peers_match.unique() #Getting Unique Peer Matches"
      ],
      "execution_count": 14,
      "outputs": [
        {
          "output_type": "execute_result",
          "data": {
            "text/plain": [
              "array([  1,   0,   2,   3,  38,  29,  19,   4,   5,   6,   8,   7,   9,\n",
              "        14,  20,  28,  34,  12, 157,  40, 100,  60,  10,  36,  17,  21,\n",
              "        22,  15,  25,  11,  24,  16,  13,  48,  86,  73,  80,  26,  23,\n",
              "        18,  30,  32,  47,  90,  93,  51,  65,  58,  31,  41,  43,  33,\n",
              "        27,  35,  54,  37,  39,  44,  45,  46,  42, 181, 140,  81,  56,\n",
              "        59,  49,  52, 107,  92,  94,  50,  85,  79, 120,  84,  88,  71,\n",
              "        76,  78,  53,  55,  69, 180,  70,  87,  68,  75,  57, 104, 111,\n",
              "        99,  74,  62,  77,  97,  82,  66, 119, 161,  61, 103,  83, 198,\n",
              "       200, 138, 240, 197,  63,  91, 141,  72])"
            ]
          },
          "metadata": {
            "tags": []
          },
          "execution_count": 14
        }
      ]
    },
    {
      "cell_type": "code",
      "metadata": {
        "colab": {
          "base_uri": "https://localhost:8080/",
          "height": 517
        },
        "id": "aeyXDaND30dC",
        "outputId": "21f60dd8-e9a5-4f6c-cf67-dff4027ec147"
      },
      "source": [
        "df.head(10)"
      ],
      "execution_count": 15,
      "outputs": [
        {
          "output_type": "execute_result",
          "data": {
            "text/html": [
              "<div>\n",
              "<style scoped>\n",
              "    .dataframe tbody tr th:only-of-type {\n",
              "        vertical-align: middle;\n",
              "    }\n",
              "\n",
              "    .dataframe tbody tr th {\n",
              "        vertical-align: top;\n",
              "    }\n",
              "\n",
              "    .dataframe thead th {\n",
              "        text-align: right;\n",
              "    }\n",
              "</style>\n",
              "<table border=\"1\" class=\"dataframe\">\n",
              "  <thead>\n",
              "    <tr style=\"text-align: right;\">\n",
              "      <th></th>\n",
              "      <th>company</th>\n",
              "      <th>live</th>\n",
              "      <th>mediaEngine</th>\n",
              "      <th>p2p</th>\n",
              "      <th>cdn</th>\n",
              "      <th>upload</th>\n",
              "      <th>peers_count</th>\n",
              "      <th>peers_match</th>\n",
              "      <th>timestamp</th>\n",
              "      <th>sessionDuration</th>\n",
              "      <th>playbackErrorCount</th>\n",
              "      <th>totalPlaybackErrorCount</th>\n",
              "      <th>content</th>\n",
              "      <th>Time</th>\n",
              "    </tr>\n",
              "  </thead>\n",
              "  <tbody>\n",
              "    <tr>\n",
              "      <th>0</th>\n",
              "      <td>Streamroot TV</td>\n",
              "      <td>VOD</td>\n",
              "      <td>ME1</td>\n",
              "      <td>0.0</td>\n",
              "      <td>8507376.0</td>\n",
              "      <td>0.0</td>\n",
              "      <td>0.00</td>\n",
              "      <td>1</td>\n",
              "      <td>1562469807407</td>\n",
              "      <td>120000.0</td>\n",
              "      <td>0</td>\n",
              "      <td>0</td>\n",
              "      <td>content-09235</td>\n",
              "      <td>2019-07-07 03:23:27.407</td>\n",
              "    </tr>\n",
              "    <tr>\n",
              "      <th>1</th>\n",
              "      <td>Streamroot TV</td>\n",
              "      <td>VOD</td>\n",
              "      <td>ME1</td>\n",
              "      <td>0.0</td>\n",
              "      <td>5778744.0</td>\n",
              "      <td>0.0</td>\n",
              "      <td>0.00</td>\n",
              "      <td>0</td>\n",
              "      <td>1562469927310</td>\n",
              "      <td>240000.0</td>\n",
              "      <td>0</td>\n",
              "      <td>0</td>\n",
              "      <td>content-09235</td>\n",
              "      <td>2019-07-07 03:25:27.310</td>\n",
              "    </tr>\n",
              "    <tr>\n",
              "      <th>2</th>\n",
              "      <td>Streamroot TV</td>\n",
              "      <td>VOD</td>\n",
              "      <td>ME1</td>\n",
              "      <td>0.0</td>\n",
              "      <td>7692960.0</td>\n",
              "      <td>0.0</td>\n",
              "      <td>0.00</td>\n",
              "      <td>0</td>\n",
              "      <td>1562470047330</td>\n",
              "      <td>360000.0</td>\n",
              "      <td>0</td>\n",
              "      <td>0</td>\n",
              "      <td>content-09235</td>\n",
              "      <td>2019-07-07 03:27:27.330</td>\n",
              "    </tr>\n",
              "    <tr>\n",
              "      <th>3</th>\n",
              "      <td>Streamroot TV</td>\n",
              "      <td>VOD</td>\n",
              "      <td>ME1</td>\n",
              "      <td>0.0</td>\n",
              "      <td>8229888.0</td>\n",
              "      <td>0.0</td>\n",
              "      <td>0.00</td>\n",
              "      <td>0</td>\n",
              "      <td>1562470167720</td>\n",
              "      <td>480000.0</td>\n",
              "      <td>0</td>\n",
              "      <td>0</td>\n",
              "      <td>content-09235</td>\n",
              "      <td>2019-07-07 03:29:27.720</td>\n",
              "    </tr>\n",
              "    <tr>\n",
              "      <th>4</th>\n",
              "      <td>Streamroot TV</td>\n",
              "      <td>VOD</td>\n",
              "      <td>ME1</td>\n",
              "      <td>0.0</td>\n",
              "      <td>10387000.0</td>\n",
              "      <td>0.0</td>\n",
              "      <td>0.00</td>\n",
              "      <td>0</td>\n",
              "      <td>1562470287353</td>\n",
              "      <td>600000.0</td>\n",
              "      <td>0</td>\n",
              "      <td>0</td>\n",
              "      <td>content-09235</td>\n",
              "      <td>2019-07-07 03:31:27.353</td>\n",
              "    </tr>\n",
              "    <tr>\n",
              "      <th>5</th>\n",
              "      <td>Streamroot TV</td>\n",
              "      <td>VOD</td>\n",
              "      <td>ME1</td>\n",
              "      <td>0.0</td>\n",
              "      <td>12026360.0</td>\n",
              "      <td>0.0</td>\n",
              "      <td>0.00</td>\n",
              "      <td>0</td>\n",
              "      <td>1562470407799</td>\n",
              "      <td>720000.0</td>\n",
              "      <td>0</td>\n",
              "      <td>0</td>\n",
              "      <td>content-09235</td>\n",
              "      <td>2019-07-07 03:33:27.799</td>\n",
              "    </tr>\n",
              "    <tr>\n",
              "      <th>6</th>\n",
              "      <td>Streamroot TV</td>\n",
              "      <td>VOD</td>\n",
              "      <td>ME1</td>\n",
              "      <td>0.0</td>\n",
              "      <td>24420072.0</td>\n",
              "      <td>0.0</td>\n",
              "      <td>0.00</td>\n",
              "      <td>0</td>\n",
              "      <td>1562470527768</td>\n",
              "      <td>840000.0</td>\n",
              "      <td>0</td>\n",
              "      <td>0</td>\n",
              "      <td>content-09235</td>\n",
              "      <td>2019-07-07 03:35:27.768</td>\n",
              "    </tr>\n",
              "    <tr>\n",
              "      <th>7</th>\n",
              "      <td>Streamroot TV</td>\n",
              "      <td>VOD</td>\n",
              "      <td>ME1</td>\n",
              "      <td>0.0</td>\n",
              "      <td>8630328.0</td>\n",
              "      <td>0.0</td>\n",
              "      <td>0.00</td>\n",
              "      <td>0</td>\n",
              "      <td>1562470647404</td>\n",
              "      <td>960000.0</td>\n",
              "      <td>0</td>\n",
              "      <td>0</td>\n",
              "      <td>content-09235</td>\n",
              "      <td>2019-07-07 03:37:27.404</td>\n",
              "    </tr>\n",
              "    <tr>\n",
              "      <th>8</th>\n",
              "      <td>Streamroot TV</td>\n",
              "      <td>VOD</td>\n",
              "      <td>ME1</td>\n",
              "      <td>4411816.0</td>\n",
              "      <td>6455712.0</td>\n",
              "      <td>0.0</td>\n",
              "      <td>0.61</td>\n",
              "      <td>2</td>\n",
              "      <td>1562470767693</td>\n",
              "      <td>1080000.0</td>\n",
              "      <td>0</td>\n",
              "      <td>0</td>\n",
              "      <td>content-09235</td>\n",
              "      <td>2019-07-07 03:39:27.693</td>\n",
              "    </tr>\n",
              "    <tr>\n",
              "      <th>9</th>\n",
              "      <td>Streamroot TV</td>\n",
              "      <td>VOD</td>\n",
              "      <td>ME1</td>\n",
              "      <td>2918080.0</td>\n",
              "      <td>5611104.0</td>\n",
              "      <td>0.0</td>\n",
              "      <td>0.25</td>\n",
              "      <td>3</td>\n",
              "      <td>1562470887701</td>\n",
              "      <td>1200000.0</td>\n",
              "      <td>0</td>\n",
              "      <td>0</td>\n",
              "      <td>content-09235</td>\n",
              "      <td>2019-07-07 03:41:27.701</td>\n",
              "    </tr>\n",
              "  </tbody>\n",
              "</table>\n",
              "</div>"
            ],
            "text/plain": [
              "         company live  ...        content                    Time\n",
              "0  Streamroot TV  VOD  ...  content-09235 2019-07-07 03:23:27.407\n",
              "1  Streamroot TV  VOD  ...  content-09235 2019-07-07 03:25:27.310\n",
              "2  Streamroot TV  VOD  ...  content-09235 2019-07-07 03:27:27.330\n",
              "3  Streamroot TV  VOD  ...  content-09235 2019-07-07 03:29:27.720\n",
              "4  Streamroot TV  VOD  ...  content-09235 2019-07-07 03:31:27.353\n",
              "5  Streamroot TV  VOD  ...  content-09235 2019-07-07 03:33:27.799\n",
              "6  Streamroot TV  VOD  ...  content-09235 2019-07-07 03:35:27.768\n",
              "7  Streamroot TV  VOD  ...  content-09235 2019-07-07 03:37:27.404\n",
              "8  Streamroot TV  VOD  ...  content-09235 2019-07-07 03:39:27.693\n",
              "9  Streamroot TV  VOD  ...  content-09235 2019-07-07 03:41:27.701\n",
              "\n",
              "[10 rows x 14 columns]"
            ]
          },
          "metadata": {
            "tags": []
          },
          "execution_count": 15
        }
      ]
    },
    {
      "cell_type": "code",
      "metadata": {
        "colab": {
          "base_uri": "https://localhost:8080/"
        },
        "id": "PpPHTQW_33X9",
        "outputId": "ee617631-0098-412b-a8f3-52f641e7b49f"
      },
      "source": [
        "df.query('sessionDuration == 120000.0').sessionDuration.count() # Checking Session duration 2 mins counts"
      ],
      "execution_count": 16,
      "outputs": [
        {
          "output_type": "execute_result",
          "data": {
            "text/plain": [
              "20834"
            ]
          },
          "metadata": {
            "tags": []
          },
          "execution_count": 16
        }
      ]
    },
    {
      "cell_type": "code",
      "metadata": {
        "id": "40CUH6ho36vF"
      },
      "source": [
        "#Question 1.\n",
        "#Knowing the goal of the our technology, define a metric to measure our performance. Calculate that performance score for each of the companies in the dataset."
      ],
      "execution_count": 17,
      "outputs": []
    },
    {
      "cell_type": "code",
      "metadata": {
        "id": "DEG-rgAy4AJf"
      },
      "source": [
        "#Amount of Downloads can be considered as a metric to measure performance"
      ],
      "execution_count": 19,
      "outputs": []
    },
    {
      "cell_type": "code",
      "metadata": {
        "colab": {
          "base_uri": "https://localhost:8080/"
        },
        "id": "vMEkrigW4C-A",
        "outputId": "91ba4db8-535a-47f5-d5ac-952ecd5c3746"
      },
      "source": [
        "print(np.where(df['company']==\"Streamroot TV\",df['p2p']+df['cdn'],0).sum()) ## Performance score for 'Streamroot TV' "
      ],
      "execution_count": 20,
      "outputs": [
        {
          "output_type": "stream",
          "text": [
            "5806332293823.0\n"
          ],
          "name": "stdout"
        }
      ]
    },
    {
      "cell_type": "code",
      "metadata": {
        "colab": {
          "base_uri": "https://localhost:8080/"
        },
        "id": "2ifbCHn34GAv",
        "outputId": "78e93167-8893-45c6-96b2-6d6b7cfa2f9a"
      },
      "source": [
        "print(np.where(df['company']==\"Flash Infos\",df['p2p']+df['cdn'],0).sum())## Performance score for 'Flash Infos'"
      ],
      "execution_count": 21,
      "outputs": [
        {
          "output_type": "stream",
          "text": [
            "293576003092.0\n"
          ],
          "name": "stdout"
        }
      ]
    },
    {
      "cell_type": "code",
      "metadata": {
        "colab": {
          "base_uri": "https://localhost:8080/"
        },
        "id": "_yDFmjyl4Ih9",
        "outputId": "fb789edc-ffad-4e76-9444-906d8560093d"
      },
      "source": [
        "print(np.where(df['company']==\"Sports News\",df['p2p']+df['cdn'],0).sum())## Performance score for 'Sports News'"
      ],
      "execution_count": 22,
      "outputs": [
        {
          "output_type": "stream",
          "text": [
            "85491591676.0\n"
          ],
          "name": "stdout"
        }
      ]
    },
    {
      "cell_type": "code",
      "metadata": {
        "id": "IlcsZh-C4KrC"
      },
      "source": [
        "#Question 2\n",
        "# 2.1 How can we know whether a payload is the first payload of a viewer's session?"
      ],
      "execution_count": 23,
      "outputs": []
    },
    {
      "cell_type": "code",
      "metadata": {
        "id": "wp3Pqr764McG"
      },
      "source": [
        "# Answer(2.1) - we see that at every sessionDuration = 120000.0 the session starts a new content and this can be considered as a first payload of a viewer's session\n"
      ],
      "execution_count": 24,
      "outputs": []
    },
    {
      "cell_type": "code",
      "metadata": {
        "id": "EMfN3qFx4O5G"
      },
      "source": [
        "#2.2 Add a column `isFirstPayload` to the dataset, that must be `True` if the row represents a payload that was **the first payload** sent by a viewer, and `False` otherwise."
      ],
      "execution_count": 25,
      "outputs": []
    },
    {
      "cell_type": "code",
      "metadata": {
        "id": "HBEwzvWj4S__"
      },
      "source": [
        "df['isFirstPayload'] = \"isFirstPayload\""
      ],
      "execution_count": 26,
      "outputs": []
    },
    {
      "cell_type": "code",
      "metadata": {
        "id": "b5VFuHeq4VIE"
      },
      "source": [
        "df.loc[df.sessionDuration == 120000.0, ['isFirstPayload']] = 'True'"
      ],
      "execution_count": 27,
      "outputs": []
    },
    {
      "cell_type": "code",
      "metadata": {
        "id": "yH35YIPZ4XYz"
      },
      "source": [
        "df.loc[df.isFirstPayload=='isFirstPayload',['isFirstPayload']] = 'False'"
      ],
      "execution_count": 28,
      "outputs": []
    },
    {
      "cell_type": "code",
      "metadata": {
        "id": "aF5p2ofB4Za3"
      },
      "source": [
        "#2.3 Use that column to calculate the **number of distinct viewers** that sent payloads for each company."
      ],
      "execution_count": 29,
      "outputs": []
    },
    {
      "cell_type": "code",
      "metadata": {
        "colab": {
          "base_uri": "https://localhost:8080/",
          "height": 268
        },
        "id": "cHzXzYeE4bK4",
        "outputId": "6b898935-8cba-4df5-d0e9-4e390032016a"
      },
      "source": [
        "df.groupby([df['company'], df['isFirstPayload']]).count()"
      ],
      "execution_count": 30,
      "outputs": [
        {
          "output_type": "execute_result",
          "data": {
            "text/html": [
              "<div>\n",
              "<style scoped>\n",
              "    .dataframe tbody tr th:only-of-type {\n",
              "        vertical-align: middle;\n",
              "    }\n",
              "\n",
              "    .dataframe tbody tr th {\n",
              "        vertical-align: top;\n",
              "    }\n",
              "\n",
              "    .dataframe thead th {\n",
              "        text-align: right;\n",
              "    }\n",
              "</style>\n",
              "<table border=\"1\" class=\"dataframe\">\n",
              "  <thead>\n",
              "    <tr style=\"text-align: right;\">\n",
              "      <th></th>\n",
              "      <th></th>\n",
              "      <th>live</th>\n",
              "      <th>mediaEngine</th>\n",
              "      <th>p2p</th>\n",
              "      <th>cdn</th>\n",
              "      <th>upload</th>\n",
              "      <th>peers_count</th>\n",
              "      <th>peers_match</th>\n",
              "      <th>timestamp</th>\n",
              "      <th>sessionDuration</th>\n",
              "      <th>playbackErrorCount</th>\n",
              "      <th>totalPlaybackErrorCount</th>\n",
              "      <th>content</th>\n",
              "      <th>Time</th>\n",
              "    </tr>\n",
              "    <tr>\n",
              "      <th>company</th>\n",
              "      <th>isFirstPayload</th>\n",
              "      <th></th>\n",
              "      <th></th>\n",
              "      <th></th>\n",
              "      <th></th>\n",
              "      <th></th>\n",
              "      <th></th>\n",
              "      <th></th>\n",
              "      <th></th>\n",
              "      <th></th>\n",
              "      <th></th>\n",
              "      <th></th>\n",
              "      <th></th>\n",
              "      <th></th>\n",
              "    </tr>\n",
              "  </thead>\n",
              "  <tbody>\n",
              "    <tr>\n",
              "      <th rowspan=\"2\" valign=\"top\">Flash Infos</th>\n",
              "      <th>False</th>\n",
              "      <td>11627</td>\n",
              "      <td>11627</td>\n",
              "      <td>11627</td>\n",
              "      <td>11627</td>\n",
              "      <td>11627</td>\n",
              "      <td>11627</td>\n",
              "      <td>11627</td>\n",
              "      <td>11627</td>\n",
              "      <td>11627</td>\n",
              "      <td>11627</td>\n",
              "      <td>11627</td>\n",
              "      <td>11627</td>\n",
              "      <td>11627</td>\n",
              "    </tr>\n",
              "    <tr>\n",
              "      <th>True</th>\n",
              "      <td>805</td>\n",
              "      <td>805</td>\n",
              "      <td>805</td>\n",
              "      <td>805</td>\n",
              "      <td>805</td>\n",
              "      <td>805</td>\n",
              "      <td>805</td>\n",
              "      <td>805</td>\n",
              "      <td>805</td>\n",
              "      <td>805</td>\n",
              "      <td>805</td>\n",
              "      <td>805</td>\n",
              "      <td>805</td>\n",
              "    </tr>\n",
              "    <tr>\n",
              "      <th rowspan=\"2\" valign=\"top\">Sports News</th>\n",
              "      <th>False</th>\n",
              "      <td>1786</td>\n",
              "      <td>1786</td>\n",
              "      <td>1786</td>\n",
              "      <td>1786</td>\n",
              "      <td>1786</td>\n",
              "      <td>1786</td>\n",
              "      <td>1786</td>\n",
              "      <td>1786</td>\n",
              "      <td>1786</td>\n",
              "      <td>1786</td>\n",
              "      <td>1786</td>\n",
              "      <td>1786</td>\n",
              "      <td>1786</td>\n",
              "    </tr>\n",
              "    <tr>\n",
              "      <th>True</th>\n",
              "      <td>115</td>\n",
              "      <td>115</td>\n",
              "      <td>115</td>\n",
              "      <td>115</td>\n",
              "      <td>115</td>\n",
              "      <td>115</td>\n",
              "      <td>115</td>\n",
              "      <td>115</td>\n",
              "      <td>115</td>\n",
              "      <td>115</td>\n",
              "      <td>115</td>\n",
              "      <td>115</td>\n",
              "      <td>115</td>\n",
              "    </tr>\n",
              "    <tr>\n",
              "      <th rowspan=\"2\" valign=\"top\">Streamroot TV</th>\n",
              "      <th>False</th>\n",
              "      <td>350918</td>\n",
              "      <td>350918</td>\n",
              "      <td>350918</td>\n",
              "      <td>350918</td>\n",
              "      <td>350918</td>\n",
              "      <td>350918</td>\n",
              "      <td>350918</td>\n",
              "      <td>350918</td>\n",
              "      <td>350918</td>\n",
              "      <td>350918</td>\n",
              "      <td>350918</td>\n",
              "      <td>350918</td>\n",
              "      <td>350918</td>\n",
              "    </tr>\n",
              "    <tr>\n",
              "      <th>True</th>\n",
              "      <td>19914</td>\n",
              "      <td>19914</td>\n",
              "      <td>19914</td>\n",
              "      <td>19914</td>\n",
              "      <td>19914</td>\n",
              "      <td>19914</td>\n",
              "      <td>19914</td>\n",
              "      <td>19914</td>\n",
              "      <td>19914</td>\n",
              "      <td>19914</td>\n",
              "      <td>19914</td>\n",
              "      <td>19914</td>\n",
              "      <td>19914</td>\n",
              "    </tr>\n",
              "  </tbody>\n",
              "</table>\n",
              "</div>"
            ],
            "text/plain": [
              "                                live  mediaEngine  ...  content    Time\n",
              "company       isFirstPayload                       ...                 \n",
              "Flash Infos   False            11627        11627  ...    11627   11627\n",
              "              True               805          805  ...      805     805\n",
              "Sports News   False             1786         1786  ...     1786    1786\n",
              "              True               115          115  ...      115     115\n",
              "Streamroot TV False           350918       350918  ...   350918  350918\n",
              "              True             19914        19914  ...    19914   19914\n",
              "\n",
              "[6 rows x 13 columns]"
            ]
          },
          "metadata": {
            "tags": []
          },
          "execution_count": 30
        }
      ]
    },
    {
      "cell_type": "code",
      "metadata": {
        "id": "Phv7Mivt4dt5"
      },
      "source": [
        "#2.3 Answer : All true are distict users "
      ],
      "execution_count": 31,
      "outputs": []
    },
    {
      "cell_type": "code",
      "metadata": {
        "id": "ciIfXlD14fi8"
      },
      "source": [
        "#Question 3\n",
        "# 3.1 Let's consider a viewer A who starts a video at T=0, then has a playback error at **T = 2 minutes 30 seconds**, and then another one at **T=6 minutes 20 seconds**. What will be the values of the fields `playbackErrorCount` and `totalPlaybackErrorCount` in the first 5 payloads sent by viewer A?\n"
      ],
      "execution_count": 32,
      "outputs": []
    },
    {
      "cell_type": "code",
      "metadata": {
        "colab": {
          "base_uri": "https://localhost:8080/"
        },
        "id": "LputhLp84hYn",
        "outputId": "6cb10689-1ebe-4425-8ac3-7063dd44aaa0"
      },
      "source": [
        "i = pd.date_range('2019-07-07', periods=5, freq='2min')\n",
        "test_frame = pd.DataFrame()\n",
        "test_frame[\"PayloadTime\"]=i\n",
        "print(test_frame)"
      ],
      "execution_count": 33,
      "outputs": [
        {
          "output_type": "stream",
          "text": [
            "          PayloadTime\n",
            "0 2019-07-07 00:00:00\n",
            "1 2019-07-07 00:02:00\n",
            "2 2019-07-07 00:04:00\n",
            "3 2019-07-07 00:06:00\n",
            "4 2019-07-07 00:08:00\n"
          ],
          "name": "stdout"
        }
      ]
    },
    {
      "cell_type": "code",
      "metadata": {
        "colab": {
          "base_uri": "https://localhost:8080/",
          "height": 220
        },
        "id": "f5LtP6cs4k9t",
        "outputId": "ca86eae3-fd69-4540-fb9d-4acd90db1aa8"
      },
      "source": [
        "test_frame.index=test_frame.PayloadTime\n",
        "test_frame[\"PayloadTime\"]=test_frame[\"PayloadTime\"].diff()\n",
        "test_frame['playbackErrorCount'] = [0,1,0,1,0]\n",
        "test_frame['totalPlaybackErrorCount'] = [0,1,1,2,2]\n",
        "test_frame"
      ],
      "execution_count": 34,
      "outputs": [
        {
          "output_type": "execute_result",
          "data": {
            "text/html": [
              "<div>\n",
              "<style scoped>\n",
              "    .dataframe tbody tr th:only-of-type {\n",
              "        vertical-align: middle;\n",
              "    }\n",
              "\n",
              "    .dataframe tbody tr th {\n",
              "        vertical-align: top;\n",
              "    }\n",
              "\n",
              "    .dataframe thead th {\n",
              "        text-align: right;\n",
              "    }\n",
              "</style>\n",
              "<table border=\"1\" class=\"dataframe\">\n",
              "  <thead>\n",
              "    <tr style=\"text-align: right;\">\n",
              "      <th></th>\n",
              "      <th>PayloadTime</th>\n",
              "      <th>playbackErrorCount</th>\n",
              "      <th>totalPlaybackErrorCount</th>\n",
              "    </tr>\n",
              "    <tr>\n",
              "      <th>PayloadTime</th>\n",
              "      <th></th>\n",
              "      <th></th>\n",
              "      <th></th>\n",
              "    </tr>\n",
              "  </thead>\n",
              "  <tbody>\n",
              "    <tr>\n",
              "      <th>2019-07-07 00:00:00</th>\n",
              "      <td>NaT</td>\n",
              "      <td>0</td>\n",
              "      <td>0</td>\n",
              "    </tr>\n",
              "    <tr>\n",
              "      <th>2019-07-07 00:02:00</th>\n",
              "      <td>0 days 00:02:00</td>\n",
              "      <td>1</td>\n",
              "      <td>1</td>\n",
              "    </tr>\n",
              "    <tr>\n",
              "      <th>2019-07-07 00:04:00</th>\n",
              "      <td>0 days 00:02:00</td>\n",
              "      <td>0</td>\n",
              "      <td>1</td>\n",
              "    </tr>\n",
              "    <tr>\n",
              "      <th>2019-07-07 00:06:00</th>\n",
              "      <td>0 days 00:02:00</td>\n",
              "      <td>1</td>\n",
              "      <td>2</td>\n",
              "    </tr>\n",
              "    <tr>\n",
              "      <th>2019-07-07 00:08:00</th>\n",
              "      <td>0 days 00:02:00</td>\n",
              "      <td>0</td>\n",
              "      <td>2</td>\n",
              "    </tr>\n",
              "  </tbody>\n",
              "</table>\n",
              "</div>"
            ],
            "text/plain": [
              "                        PayloadTime  ...  totalPlaybackErrorCount\n",
              "PayloadTime                          ...                         \n",
              "2019-07-07 00:00:00             NaT  ...                        0\n",
              "2019-07-07 00:02:00 0 days 00:02:00  ...                        1\n",
              "2019-07-07 00:04:00 0 days 00:02:00  ...                        1\n",
              "2019-07-07 00:06:00 0 days 00:02:00  ...                        2\n",
              "2019-07-07 00:08:00 0 days 00:02:00  ...                        2\n",
              "\n",
              "[5 rows x 3 columns]"
            ]
          },
          "metadata": {
            "tags": []
          },
          "execution_count": 34
        }
      ]
    },
    {
      "cell_type": "code",
      "metadata": {
        "colab": {
          "base_uri": "https://localhost:8080/",
          "height": 191
        },
        "id": "cPfQrG5u4nj6",
        "outputId": "374c5747-9ae0-465c-a8ef-d1c524e0ccf6"
      },
      "source": [
        "test_frame.between_time('00:00', '00:10', include_start = False,\n",
        "                                    include_end = False)"
      ],
      "execution_count": 35,
      "outputs": [
        {
          "output_type": "execute_result",
          "data": {
            "text/html": [
              "<div>\n",
              "<style scoped>\n",
              "    .dataframe tbody tr th:only-of-type {\n",
              "        vertical-align: middle;\n",
              "    }\n",
              "\n",
              "    .dataframe tbody tr th {\n",
              "        vertical-align: top;\n",
              "    }\n",
              "\n",
              "    .dataframe thead th {\n",
              "        text-align: right;\n",
              "    }\n",
              "</style>\n",
              "<table border=\"1\" class=\"dataframe\">\n",
              "  <thead>\n",
              "    <tr style=\"text-align: right;\">\n",
              "      <th></th>\n",
              "      <th>PayloadTime</th>\n",
              "      <th>playbackErrorCount</th>\n",
              "      <th>totalPlaybackErrorCount</th>\n",
              "    </tr>\n",
              "    <tr>\n",
              "      <th>PayloadTime</th>\n",
              "      <th></th>\n",
              "      <th></th>\n",
              "      <th></th>\n",
              "    </tr>\n",
              "  </thead>\n",
              "  <tbody>\n",
              "    <tr>\n",
              "      <th>2019-07-07 00:02:00</th>\n",
              "      <td>0 days 00:02:00</td>\n",
              "      <td>1</td>\n",
              "      <td>1</td>\n",
              "    </tr>\n",
              "    <tr>\n",
              "      <th>2019-07-07 00:04:00</th>\n",
              "      <td>0 days 00:02:00</td>\n",
              "      <td>0</td>\n",
              "      <td>1</td>\n",
              "    </tr>\n",
              "    <tr>\n",
              "      <th>2019-07-07 00:06:00</th>\n",
              "      <td>0 days 00:02:00</td>\n",
              "      <td>1</td>\n",
              "      <td>2</td>\n",
              "    </tr>\n",
              "    <tr>\n",
              "      <th>2019-07-07 00:08:00</th>\n",
              "      <td>0 days 00:02:00</td>\n",
              "      <td>0</td>\n",
              "      <td>2</td>\n",
              "    </tr>\n",
              "  </tbody>\n",
              "</table>\n",
              "</div>"
            ],
            "text/plain": [
              "                        PayloadTime  ...  totalPlaybackErrorCount\n",
              "PayloadTime                          ...                         \n",
              "2019-07-07 00:02:00 0 days 00:02:00  ...                        1\n",
              "2019-07-07 00:04:00 0 days 00:02:00  ...                        1\n",
              "2019-07-07 00:06:00 0 days 00:02:00  ...                        2\n",
              "2019-07-07 00:08:00 0 days 00:02:00  ...                        2\n",
              "\n",
              "[4 rows x 3 columns]"
            ]
          },
          "metadata": {
            "tags": []
          },
          "execution_count": 35
        }
      ]
    },
    {
      "cell_type": "code",
      "metadata": {
        "colab": {
          "base_uri": "https://localhost:8080/"
        },
        "id": "gcMEnbHk4q1E",
        "outputId": "ec498ebd-3d42-4761-d14a-a87f89968d4a"
      },
      "source": [
        "#3.2 Calculate the number of distinct viewers that had at least 1 playback error during their session.\n",
        "df.groupby(['content'])['totalPlaybackErrorCount'].agg('sum')\n",
        "df.totalPlaybackErrorCount.describe()\n",
        "# None of the users faced playback error during their session"
      ],
      "execution_count": 36,
      "outputs": [
        {
          "output_type": "execute_result",
          "data": {
            "text/plain": [
              "count    385165.000000\n",
              "mean          0.000696\n",
              "std           0.028361\n",
              "min           0.000000\n",
              "25%           0.000000\n",
              "50%           0.000000\n",
              "75%           0.000000\n",
              "max           3.000000\n",
              "Name: totalPlaybackErrorCount, dtype: float64"
            ]
          },
          "metadata": {
            "tags": []
          },
          "execution_count": 36
        }
      ]
    },
    {
      "cell_type": "code",
      "metadata": {
        "colab": {
          "base_uri": "https://localhost:8080/"
        },
        "id": "0JzthksV4uLU",
        "outputId": "1a621442-a9d6-4a7a-db3d-e0a73f48c454"
      },
      "source": [
        "#Qestion 4\n",
        "# Concurrency on Streamroot TV\n",
        "df_filter = df[df['company']== 'Streamroot TV']\n",
        "df_filter.shape"
      ],
      "execution_count": 37,
      "outputs": [
        {
          "output_type": "execute_result",
          "data": {
            "text/plain": [
              "(370832, 15)"
            ]
          },
          "metadata": {
            "tags": []
          },
          "execution_count": 37
        }
      ]
    },
    {
      "cell_type": "code",
      "metadata": {
        "colab": {
          "base_uri": "https://localhost:8080/"
        },
        "id": "-nlVXWYe4wgo",
        "outputId": "0f71644a-508b-4f8e-d25e-571afdce30b6"
      },
      "source": [
        "concurrency = pd.DataFrame(df_filter.groupby(['content']).count())\n",
        "concurrency = concurrency['peers_match']\n",
        "concurrency"
      ],
      "execution_count": 38,
      "outputs": [
        {
          "output_type": "execute_result",
          "data": {
            "text/plain": [
              "content\n",
              "content-00000    48\n",
              "content-00001    10\n",
              "content-00002     7\n",
              "content-00003    11\n",
              "content-00004     9\n",
              "                 ..\n",
              "content-17293     6\n",
              "content-17294    22\n",
              "content-17295     7\n",
              "content-17296    24\n",
              "content-17297    13\n",
              "Name: peers_match, Length: 16898, dtype: int64"
            ]
          },
          "metadata": {
            "tags": []
          },
          "execution_count": 38
        }
      ]
    },
    {
      "cell_type": "code",
      "metadata": {
        "colab": {
          "base_uri": "https://localhost:8080/",
          "height": 671
        },
        "id": "_AZG7dNg4zPl",
        "outputId": "6b176426-88c5-4cbf-80b4-06fce1f98876"
      },
      "source": [
        "#4.1 Add a column \"readableDate\" to the dataset that will be the beginning of the 2 minutes window during which the payload was sent. For example, if a payload was sent at 11:35, the column \"readableDate\" should be 11:33.\n",
        "df_filter['readableDate'] = df_filter['Time'].sub(datetime.timedelta(minutes=2))\n",
        "df_filter"
      ],
      "execution_count": 39,
      "outputs": [
        {
          "output_type": "stream",
          "text": [
            "/usr/local/lib/python3.7/dist-packages/ipykernel_launcher.py:2: SettingWithCopyWarning: \n",
            "A value is trying to be set on a copy of a slice from a DataFrame.\n",
            "Try using .loc[row_indexer,col_indexer] = value instead\n",
            "\n",
            "See the caveats in the documentation: https://pandas.pydata.org/pandas-docs/stable/user_guide/indexing.html#returning-a-view-versus-a-copy\n",
            "  \n"
          ],
          "name": "stderr"
        },
        {
          "output_type": "execute_result",
          "data": {
            "text/html": [
              "<div>\n",
              "<style scoped>\n",
              "    .dataframe tbody tr th:only-of-type {\n",
              "        vertical-align: middle;\n",
              "    }\n",
              "\n",
              "    .dataframe tbody tr th {\n",
              "        vertical-align: top;\n",
              "    }\n",
              "\n",
              "    .dataframe thead th {\n",
              "        text-align: right;\n",
              "    }\n",
              "</style>\n",
              "<table border=\"1\" class=\"dataframe\">\n",
              "  <thead>\n",
              "    <tr style=\"text-align: right;\">\n",
              "      <th></th>\n",
              "      <th>company</th>\n",
              "      <th>live</th>\n",
              "      <th>mediaEngine</th>\n",
              "      <th>p2p</th>\n",
              "      <th>cdn</th>\n",
              "      <th>upload</th>\n",
              "      <th>peers_count</th>\n",
              "      <th>peers_match</th>\n",
              "      <th>timestamp</th>\n",
              "      <th>sessionDuration</th>\n",
              "      <th>playbackErrorCount</th>\n",
              "      <th>totalPlaybackErrorCount</th>\n",
              "      <th>content</th>\n",
              "      <th>Time</th>\n",
              "      <th>isFirstPayload</th>\n",
              "      <th>readableDate</th>\n",
              "    </tr>\n",
              "  </thead>\n",
              "  <tbody>\n",
              "    <tr>\n",
              "      <th>0</th>\n",
              "      <td>Streamroot TV</td>\n",
              "      <td>VOD</td>\n",
              "      <td>ME1</td>\n",
              "      <td>0.0</td>\n",
              "      <td>8507376.0</td>\n",
              "      <td>0.0</td>\n",
              "      <td>0.00</td>\n",
              "      <td>1</td>\n",
              "      <td>1562469807407</td>\n",
              "      <td>120000.0</td>\n",
              "      <td>0</td>\n",
              "      <td>0</td>\n",
              "      <td>content-09235</td>\n",
              "      <td>2019-07-07 03:23:27.407</td>\n",
              "      <td>True</td>\n",
              "      <td>2019-07-07 03:21:27.407</td>\n",
              "    </tr>\n",
              "    <tr>\n",
              "      <th>1</th>\n",
              "      <td>Streamroot TV</td>\n",
              "      <td>VOD</td>\n",
              "      <td>ME1</td>\n",
              "      <td>0.0</td>\n",
              "      <td>5778744.0</td>\n",
              "      <td>0.0</td>\n",
              "      <td>0.00</td>\n",
              "      <td>0</td>\n",
              "      <td>1562469927310</td>\n",
              "      <td>240000.0</td>\n",
              "      <td>0</td>\n",
              "      <td>0</td>\n",
              "      <td>content-09235</td>\n",
              "      <td>2019-07-07 03:25:27.310</td>\n",
              "      <td>False</td>\n",
              "      <td>2019-07-07 03:23:27.310</td>\n",
              "    </tr>\n",
              "    <tr>\n",
              "      <th>2</th>\n",
              "      <td>Streamroot TV</td>\n",
              "      <td>VOD</td>\n",
              "      <td>ME1</td>\n",
              "      <td>0.0</td>\n",
              "      <td>7692960.0</td>\n",
              "      <td>0.0</td>\n",
              "      <td>0.00</td>\n",
              "      <td>0</td>\n",
              "      <td>1562470047330</td>\n",
              "      <td>360000.0</td>\n",
              "      <td>0</td>\n",
              "      <td>0</td>\n",
              "      <td>content-09235</td>\n",
              "      <td>2019-07-07 03:27:27.330</td>\n",
              "      <td>False</td>\n",
              "      <td>2019-07-07 03:25:27.330</td>\n",
              "    </tr>\n",
              "    <tr>\n",
              "      <th>3</th>\n",
              "      <td>Streamroot TV</td>\n",
              "      <td>VOD</td>\n",
              "      <td>ME1</td>\n",
              "      <td>0.0</td>\n",
              "      <td>8229888.0</td>\n",
              "      <td>0.0</td>\n",
              "      <td>0.00</td>\n",
              "      <td>0</td>\n",
              "      <td>1562470167720</td>\n",
              "      <td>480000.0</td>\n",
              "      <td>0</td>\n",
              "      <td>0</td>\n",
              "      <td>content-09235</td>\n",
              "      <td>2019-07-07 03:29:27.720</td>\n",
              "      <td>False</td>\n",
              "      <td>2019-07-07 03:27:27.720</td>\n",
              "    </tr>\n",
              "    <tr>\n",
              "      <th>4</th>\n",
              "      <td>Streamroot TV</td>\n",
              "      <td>VOD</td>\n",
              "      <td>ME1</td>\n",
              "      <td>0.0</td>\n",
              "      <td>10387000.0</td>\n",
              "      <td>0.0</td>\n",
              "      <td>0.00</td>\n",
              "      <td>0</td>\n",
              "      <td>1562470287353</td>\n",
              "      <td>600000.0</td>\n",
              "      <td>0</td>\n",
              "      <td>0</td>\n",
              "      <td>content-09235</td>\n",
              "      <td>2019-07-07 03:31:27.353</td>\n",
              "      <td>False</td>\n",
              "      <td>2019-07-07 03:29:27.353</td>\n",
              "    </tr>\n",
              "    <tr>\n",
              "      <th>...</th>\n",
              "      <td>...</td>\n",
              "      <td>...</td>\n",
              "      <td>...</td>\n",
              "      <td>...</td>\n",
              "      <td>...</td>\n",
              "      <td>...</td>\n",
              "      <td>...</td>\n",
              "      <td>...</td>\n",
              "      <td>...</td>\n",
              "      <td>...</td>\n",
              "      <td>...</td>\n",
              "      <td>...</td>\n",
              "      <td>...</td>\n",
              "      <td>...</td>\n",
              "      <td>...</td>\n",
              "      <td>...</td>\n",
              "    </tr>\n",
              "    <tr>\n",
              "      <th>385160</th>\n",
              "      <td>Streamroot TV</td>\n",
              "      <td>VOD</td>\n",
              "      <td>ME1</td>\n",
              "      <td>14849556.0</td>\n",
              "      <td>0.0</td>\n",
              "      <td>76800.0</td>\n",
              "      <td>19.98</td>\n",
              "      <td>40</td>\n",
              "      <td>1562478631672</td>\n",
              "      <td>1800000.0</td>\n",
              "      <td>0</td>\n",
              "      <td>0</td>\n",
              "      <td>content-05335</td>\n",
              "      <td>2019-07-07 05:50:31.672</td>\n",
              "      <td>False</td>\n",
              "      <td>2019-07-07 05:48:31.672</td>\n",
              "    </tr>\n",
              "    <tr>\n",
              "      <th>385161</th>\n",
              "      <td>Streamroot TV</td>\n",
              "      <td>VOD</td>\n",
              "      <td>ME1</td>\n",
              "      <td>12287680.0</td>\n",
              "      <td>0.0</td>\n",
              "      <td>417400.0</td>\n",
              "      <td>19.77</td>\n",
              "      <td>40</td>\n",
              "      <td>1562478749635</td>\n",
              "      <td>1920000.0</td>\n",
              "      <td>0</td>\n",
              "      <td>0</td>\n",
              "      <td>content-05335</td>\n",
              "      <td>2019-07-07 05:52:29.635</td>\n",
              "      <td>False</td>\n",
              "      <td>2019-07-07 05:50:29.635</td>\n",
              "    </tr>\n",
              "    <tr>\n",
              "      <th>385162</th>\n",
              "      <td>Streamroot TV</td>\n",
              "      <td>VOD</td>\n",
              "      <td>ME1</td>\n",
              "      <td>13229184.0</td>\n",
              "      <td>0.0</td>\n",
              "      <td>6588.0</td>\n",
              "      <td>19.70</td>\n",
              "      <td>40</td>\n",
              "      <td>1562478869650</td>\n",
              "      <td>2040000.0</td>\n",
              "      <td>0</td>\n",
              "      <td>0</td>\n",
              "      <td>content-05335</td>\n",
              "      <td>2019-07-07 05:54:29.650</td>\n",
              "      <td>False</td>\n",
              "      <td>2019-07-07 05:52:29.650</td>\n",
              "    </tr>\n",
              "    <tr>\n",
              "      <th>385163</th>\n",
              "      <td>Streamroot TV</td>\n",
              "      <td>VOD</td>\n",
              "      <td>ME1</td>\n",
              "      <td>3515600.0</td>\n",
              "      <td>0.0</td>\n",
              "      <td>2000896.0</td>\n",
              "      <td>19.23</td>\n",
              "      <td>40</td>\n",
              "      <td>1562478989910</td>\n",
              "      <td>2160000.0</td>\n",
              "      <td>0</td>\n",
              "      <td>0</td>\n",
              "      <td>content-05335</td>\n",
              "      <td>2019-07-07 05:56:29.910</td>\n",
              "      <td>False</td>\n",
              "      <td>2019-07-07 05:54:29.910</td>\n",
              "    </tr>\n",
              "    <tr>\n",
              "      <th>385164</th>\n",
              "      <td>Streamroot TV</td>\n",
              "      <td>VOD</td>\n",
              "      <td>ME1</td>\n",
              "      <td>0.0</td>\n",
              "      <td>0.0</td>\n",
              "      <td>6739956.0</td>\n",
              "      <td>16.73</td>\n",
              "      <td>40</td>\n",
              "      <td>1562479110208</td>\n",
              "      <td>2280000.0</td>\n",
              "      <td>0</td>\n",
              "      <td>0</td>\n",
              "      <td>content-05335</td>\n",
              "      <td>2019-07-07 05:58:30.208</td>\n",
              "      <td>False</td>\n",
              "      <td>2019-07-07 05:56:30.208</td>\n",
              "    </tr>\n",
              "  </tbody>\n",
              "</table>\n",
              "<p>370832 rows × 16 columns</p>\n",
              "</div>"
            ],
            "text/plain": [
              "              company live  ... isFirstPayload            readableDate\n",
              "0       Streamroot TV  VOD  ...           True 2019-07-07 03:21:27.407\n",
              "1       Streamroot TV  VOD  ...          False 2019-07-07 03:23:27.310\n",
              "2       Streamroot TV  VOD  ...          False 2019-07-07 03:25:27.330\n",
              "3       Streamroot TV  VOD  ...          False 2019-07-07 03:27:27.720\n",
              "4       Streamroot TV  VOD  ...          False 2019-07-07 03:29:27.353\n",
              "...               ...  ...  ...            ...                     ...\n",
              "385160  Streamroot TV  VOD  ...          False 2019-07-07 05:48:31.672\n",
              "385161  Streamroot TV  VOD  ...          False 2019-07-07 05:50:29.635\n",
              "385162  Streamroot TV  VOD  ...          False 2019-07-07 05:52:29.650\n",
              "385163  Streamroot TV  VOD  ...          False 2019-07-07 05:54:29.910\n",
              "385164  Streamroot TV  VOD  ...          False 2019-07-07 05:56:30.208\n",
              "\n",
              "[370832 rows x 16 columns]"
            ]
          },
          "metadata": {
            "tags": []
          },
          "execution_count": 39
        }
      ]
    },
    {
      "cell_type": "code",
      "metadata": {
        "colab": {
          "base_uri": "https://localhost:8080/",
          "height": 283
        },
        "id": "P4enWOeM46DX",
        "outputId": "f40f5b1b-c448-470b-ef02-0b8c06884c8f"
      },
      "source": [
        "#4.2 Plot the concurrency time series for the content `content-05335`.\n",
        "from matplotlib import pyplot as plt\n",
        "df_co_filter = df_filter[df_filter['content']=='content-05335']\n",
        "plt.scatter(df['Time'], df['peers_match'])"
      ],
      "execution_count": 40,
      "outputs": [
        {
          "output_type": "execute_result",
          "data": {
            "text/plain": [
              "<matplotlib.collections.PathCollection at 0x7f313bf62290>"
            ]
          },
          "metadata": {
            "tags": []
          },
          "execution_count": 40
        },
        {
          "output_type": "display_data",
          "data": {
            "image/png": "[encoded data removed]",
            "text/plain": [
              "<Figure size 432x288 with 1 Axes>"
            ]
          },
          "metadata": {
            "tags": [],
            "needs_background": "light"
          }
        }
      ]
    },
    {
      "cell_type": "code",
      "metadata": {
        "id": "HnoVo7MY6nqX",
        "colab": {
          "base_uri": "https://localhost:8080/"
        },
        "outputId": "ec61e24c-57e2-49b5-9aff-755138fa0d9c"
      },
      "source": [
        "#4.3 What is the average performance measured when the concurrency is lower than 10?\n",
        "print(np.where(df_filter['peers_match'] < 10, df_filter['p2p']+df_filter['cdn'], 0).sum())"
      ],
      "execution_count": 41,
      "outputs": [
        {
          "output_type": "stream",
          "text": [
            "4733045012316.0\n"
          ],
          "name": "stdout"
        }
      ]
    },
    {
      "cell_type": "code",
      "metadata": {
        "colab": {
          "base_uri": "https://localhost:8080/"
        },
        "id": "fGML8QANqWEp",
        "outputId": "9bed1507-71fc-4c2d-c15f-0897d517ef78"
      },
      "source": [
        "#4.4 Starting from which concurrency can we say there is a 75% chance that the performance on a content is higher than 80%?\n",
        "\n",
        "print(np.where((df_filter['peers_match'])*(75/100) < ((df_filter['p2p']+df_filter['cdn'])*(80/100)), df_filter['content'], 0))"
      ],
      "execution_count": 43,
      "outputs": [
        {
          "output_type": "stream",
          "text": [
            "['content-09235' 'content-09235' 'content-09235' ... 'content-05335'\n",
            " 'content-05335' 0]\n"
          ],
          "name": "stdout"
        }
      ]
    }
  ]
}